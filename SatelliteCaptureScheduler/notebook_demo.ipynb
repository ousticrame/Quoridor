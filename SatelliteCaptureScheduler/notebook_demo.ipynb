{
 "cells": [
  {
   "cell_type": "markdown",
   "metadata": {},
   "source": []
  },
  {
   "cell_type": "code",
   "execution_count": 10,
   "metadata": {},
   "outputs": [],
   "source": [
    "import codecs\n",
    "import json\n",
    "import os\n",
    "import sys\n",
    "import click\n",
    "import yaml\n",
    "\n",
    "sys.path.append(os.path.abspath(\"src\"))\n",
    "\n",
    "from src.core.request import Request, RequestConfig\n",
    "from src.core.satellite import Satellite, SatelliteConfig\n",
    "from src.solver.scheduler import SatelliteScheduler\n"
   ]
  },
  {
   "cell_type": "code",
   "execution_count": null,
   "metadata": {},
   "outputs": [],
   "source": [
    "satellite = Satellite(\n",
    "    SatelliteConfig(\n",
    "        # For visualization (not used in the solver)\n",
    "        MU=398600.4418,\n",
    "        A=[7000],\n",
    "        EC=[0.01],\n",
    "        IC=[45],\n",
    "        OMEGA=[60],\n",
    "        W=[30],\n",
    "        R=6371,\n",
    "        NUM_FRAMES=1000,\n",
    "\n",
    "        # For the solver\n",
    "        memory_capacity_gb=10,\n",
    "        image_size_per_km2_gb=0.15,\n",
    "        image_duration_per_km2_sec=3.5,\n",
    "        max_photo_duration_s=120,\n",
    "        recalibration_time_s=30,\n",
    "        speed_kms_per_s=50,\n",
    "    )\n",
    ")\n",
    "\n",
    "requests = [\n",
    "    Request(RequestConfig(\"New-York\", (40.730610, -73.935242), 3, 6, (500, 1200))),\n",
    "    Request(RequestConfig(\"Los-Angeles\", (34.052235, -118.243683), 5, 8, (600, 1300))),\n",
    "    Request(RequestConfig(\"Chicago\", (41.878113, -87.629799), 2, 4, (700, 1400))),\n",
    "    Request(\n",
    "        RequestConfig(\"San-Francisco\", (37.774929, -122.419416), 4, 5, (800, 1500))\n",
    "    ),\n",
    "    Request(RequestConfig(\"Miami\", (25.761680, -80.191790), 3, 7, (400, 1100))),\n",
    "    Request(RequestConfig(\"Seattle\", (47.608013, -122.335167), 4, 6, (900, 1600))),\n",
    "    Request(RequestConfig(\"Houston\", (29.760427, -95.369803), 2, 5, (600, 1300))),\n",
    "    Request(RequestConfig(\"Boston\", (42.360081, -71.058880), 3, 4, (450, 1150))),\n",
    "]"
   ]
  },
  {
   "cell_type": "code",
   "execution_count": 14,
   "metadata": {},
   "outputs": [
    {
     "name": "stdout",
     "output_type": "stream",
     "text": [
      "Found optimal solution!\n",
      "\n",
      "Scheduled 6 out of 8 image captures:\n",
      "Boston (Priority 3): Start at 450s, Duration: 14s, Time window: (450, 1150)\n",
      "  Memory used: 0.60 GB, Travel time from previous: 0s\n",
      "  Recalibration time: 30s\n",
      "  End task at: 494s\n",
      "\n",
      "New-York (Priority 3): Start at 500s, Duration: 21s, Time window: (500, 1200)\n",
      "  Memory used: 0.90 GB, Travel time from previous: 6s\n",
      "  Recalibration time: 30s\n",
      "  End task at: 551s\n",
      "  Time since previous task: 6s\n",
      "\n",
      "Seattle (Priority 4): Start at 900s, Duration: 21s, Time window: (900, 1600)\n",
      "  Memory used: 0.90 GB, Travel time from previous: 77s\n",
      "  Recalibration time: 30s\n",
      "  End task at: 951s\n",
      "  Time since previous task: 349s\n",
      "\n",
      "San-Francisco (Priority 4): Start at 972s, Duration: 17s, Time window: (800, 1500)\n",
      "  Memory used: 0.75 GB, Travel time from previous: 21s\n",
      "  Recalibration time: 30s\n",
      "  End task at: 1019s\n",
      "  Time since previous task: 21s\n",
      "\n",
      "Chicago (Priority 2): Start at 1078s, Duration: 14s, Time window: (700, 1400)\n",
      "  Memory used: 0.60 GB, Travel time from previous: 59s\n",
      "  Recalibration time: 30s\n",
      "  End task at: 1122s\n",
      "  Time since previous task: 59s\n",
      "\n",
      "Los-Angeles (Priority 5): Start at 1178s, Duration: 28s, Time window: (600, 1300)\n",
      "  Memory used: 1.20 GB, Travel time from previous: 56s\n",
      "  No recalibration.\n",
      "  End task at: 1206s\n",
      "  Time since previous task: 56s\n",
      "\n",
      "Total memory used: 4.95 GB out of 5 GB\n",
      "Total priority score: 21\n",
      "\n",
      "Unscheduled locations:\n",
      "Miami (Priority 3)\n",
      "Houston (Priority 2)\n"
     ]
    }
   ],
   "source": [
    "scheduler = SatelliteScheduler(satellite, requests)\n",
    "status, results = scheduler.solve()\n",
    "scheduler.print_solution(status, results)"
   ]
  },
  {
   "cell_type": "code",
   "execution_count": null,
   "metadata": {},
   "outputs": [],
   "source": []
  }
 ],
 "metadata": {
  "kernelspec": {
   "display_name": "ppc_env",
   "language": "python",
   "name": "python3"
  },
  "language_info": {
   "codemirror_mode": {
    "name": "ipython",
    "version": 3
   },
   "file_extension": ".py",
   "mimetype": "text/x-python",
   "name": "python",
   "nbconvert_exporter": "python",
   "pygments_lexer": "ipython3",
   "version": "3.10.16"
  }
 },
 "nbformat": 4,
 "nbformat_minor": 2
}
