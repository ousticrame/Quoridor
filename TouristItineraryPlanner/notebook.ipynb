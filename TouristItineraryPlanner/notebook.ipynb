{
    "cells": [
     {
      "cell_type": "markdown",
      "metadata": {},
      "source": [
       "# Tourist Itinerary Planner - Notebook Explicatif"
      ]
     },
     {
      "cell_type": "markdown",
      "metadata": {},
      "source": [
       "## Introduction\n",
       "\n",
       "Ce notebook présente le fonctionnement interne du projet \"Tourist Itinerary Planner\". L'objectif de ce projet est de générer automatiquement des itinéraires touristiques optimisés pour une journée dans une ville donnée. Il combine :\n",
       "\n",
       "1.  **Génération de Données via LLM:** Utilisation de l'API OpenAI (GPT-4o / GPT-4o-mini) pour collecter des informations sur les points d'intérêt (POI) et des faits intéressants (`city_generator.py`).\n",
       "2.  **Modélisation par Graphe:** Représentation de la ville et de ses POI à l'aide de la bibliothèque NetworkX (`city_graph.py`).\n",
       "3.  **Calcul des Temps de Trajet:** Estimation des temps de trajet entre POI en utilisant l'API OpenAI ou la distance Haversine (`distance_api.py`).\n",
       "4.  **Optimisation par Contraintes:** Utilisation de Google OR-Tools (CP-SAT) pour trouver le meilleur itinéraire possible selon des critères définis (intérêt maximisé, temps de trajet minimisé) en respectant les contraintes (horaires, durée de visite, repas, etc.) (`solver.py`).\n",
       "5.  **Interface Web (Conceptuelle ici):** Une interface web (HTML/CSS/JS) permet aux utilisateurs finaux d'interagir avec le système (non exécutée directement dans ce notebook mais son interaction avec le backend est expliquée).\n",
       "6.  **Persistance:** Sauvegarde et chargement des graphes de villes pour éviter la régénération coûteuse des données (`city_graph.py`)."
      ]
     },
     {
      "cell_type": "markdown",
      "metadata": {},
      "source": [
       "## 1. Configuration et Imports"
      ]
     },
     {
      "cell_type": "markdown",
      "metadata": {},
      "source": [
       "### Installation des dépendances\n",
       "Assurez-vous d'avoir installé les bibliothèques nécessaires. Vous pouvez le faire via pip :\n",
       "```bash\n",
       "pip install openai \"google-ortools>=9.0\" networkx python-dotenv matplotlib requests\n",
       "```\n",
       "(Note : `requests` n'est pas directement dans votre code mais souvent utile, `matplotlib` est dans `city_graph.py` pour la visualisation optionnelle)."
      ]
     },
     {
      "cell_type": "code",
      "metadata": {},
      "outputs": [],
      "execution_count": null,
      "source": [
       "# ### Imports\n",
       "import openai\n",
       "import json\n",
       "import os\n",
       "import sys\n",
       "import math\n",
       "import datetime\n",
       "import pickle\n",
       "import networkx as nx\n",
       "from dotenv import load_dotenv"
      ]
     },
     {
      "cell_type": "code",
      "metadata": {},
      "outputs": [],
      "execution_count": null,
      "source": [
       "# ### Configuration du Chemin d'Accès (Important !)\n",
       "# Si ce notebook n'est pas à la racine de votre projet,\n",
       "# ajoutez le chemin vers les répertoires 'src' et 'data'\n",
       "# pour que les imports fonctionnent correctement.\n",
       "# Modifiez le chemin relatif si nécessaire.\n",
       "project_root = os.path.abspath(os.path.join(os.getcwd(), '.')) # Ajustez '../' par '.' si le notebook est à la racine\n",
       "src_path = os.path.join(project_root, 'src')\n",
       "data_path = os.path.join(project_root, 'data')\n",
       "\n",
       "if src_path not in sys.path:\n",
       "    sys.path.append(src_path)\n",
       "if data_path not in sys.path:\n",
       "    sys.path.append(data_path)\n",
       "if project_root not in sys.path:\n",
       "     sys.path.append(project_root)\n",
       "\n",
       "# Importer les modules de votre projet\n",
       "try:\n",
       "    from city_generator import generate_city_data, generate_city_fun_facts\n",
       "    from city_graph import create_graph, save_graph, load_graph, check_city_graph_exists # display_graph_window (optionnel)\n",
       "    from distance_api import DistanceCalculator\n",
       "    from solver import TouristItinerarySolver\n",
       "    print(\"Modules du projet importés avec succès.\")\n",
       "except ImportError as e:\n",
       "    print(f\"Erreur lors de l'importation des modules: {e}\")\n",
       "    print(\"Vérifiez que le notebook est dans le bon répertoire ou ajustez `project_root`.\")"
      ]
     },
     {
      "cell_type": "markdown",
      "metadata": {},
      "source": [
       "### Clé API OpenAI\n",
       "Le système nécessite une clé API OpenAI pour générer les données et calculer les temps de trajet (si l'option API est choisie).\n",
       "\n",
       "1. Créez un fichier nommé `.env` à la racine de votre projet (ou dans le même dossier que ce notebook).\n",
       "2. Ajoutez votre clé API dans ce fichier comme ceci :\n",
       "   ```\n",
       "   OPENAI_API_KEY=votre_clé_api_commence_par_sk-...\n",
       "   ```\n",
       "3. La cellule suivante chargera cette clé."
      ]
     },
     {
      "cell_type": "code",
      "metadata": {},
      "outputs": [],
      "execution_count": null,
      "source": [
       "load_dotenv()\n",
       "api_key = os.getenv(\"OPENAI_API_KEY\")\n",
       "\n",
       "if api_key:\n",
       "    print(\"Clé API OpenAI chargée avec succès depuis le fichier .env.\")\n",
       "    openai.api_key = api_key\n",
       "else:\n",
       "    print(\"ATTENTION: Clé API OpenAI non trouvée. La génération de données et le calcul de distance via API échoueront.\")\n",
       "    print(\"Veuillez créer un fichier .env comme décrit ci-dessus.\")"
      ]
     },
     {
      "cell_type": "markdown",
      "metadata": {},
      "source": [
       "## 2. Génération des Données de la Ville (`city_generator.py`)\n",
       "\n",
       "Le module `city_generator.py` interagit avec l'API OpenAI pour obtenir :\n",
       "1.  La liste des Points d'Intérêt (POI) : Attractions touristiques et restaurants avec détails (coordonnées, horaires, intérêt, durée, coût...).\n",
       "2.  Des faits intéressants (\"Fun Facts\") sur la ville."
      ]
     },
     {
      "cell_type": "markdown",
      "metadata": {},
      "source": [
       "### 2.1 Génération des Fun Facts\n",
       "\n",
       "La fonction `generate_city_fun_facts` utilise un modèle plus léger (gpt-4o-mini) pour obtenir des faits concis."
      ]
     },
     {
      "cell_type": "code",
      "metadata": {},
      "outputs": [],
      "execution_count": null,
      "source": [
       "city_name_example = \"Paris\"\n",
       "run_fun_fact_generation = False # Mettre à True pour exécuter (coût API)\n",
       "\n",
       "if run_fun_fact_generation and api_key:\n",
       "    print(f\"Génération des fun facts pour {city_name_example}...\")\n",
       "    fun_facts = generate_city_fun_facts(city_name_example, api_key=api_key, count=5)\n",
       "    print(\"\\nFaits Intéressants Générés:\")\n",
       "    if fun_facts:\n",
       "        for i, fact in enumerate(fun_facts):\n",
       "            print(f\"- {fact}\")\n",
       "    else:\n",
       "        print(\"Aucun fait intéressant n'a pu être généré.\")\n",
       "else:\n",
       "    print(\"Génération des fun facts désactivée ou clé API manquante.\")\n",
       "    print(\"Exemple de sortie attendue:\")\n",
       "    print(\"- La Tour Eiffel devait être démontée après 20 ans.\")\n",
       "    print(\"- Le Louvre est le plus grand musée d'art du monde.\")"
      ]
     },
     {
      "cell_type": "markdown",
      "metadata": {},
      "source": [
       "### 2.2 Génération des Données des POI\n",
       "\n",
       "La fonction `generate_city_data` est plus complexe. Elle utilise GPT-4o pour générer une liste structurée de 80 attractions et 20 restaurants. Elle inclut une étape de \"sanitization\" pour s'assurer que les types de données (int, float) sont corrects.\n",
       "**Attention:** Cette opération peut être coûteuse en tokens API et prendre du temps."
      ]
     },
     {
      "cell_type": "code",
      "metadata": {},
      "outputs": [],
      "execution_count": null,
      "source": [
       "# Vérifions d'abord si un graphe existe déjà pour éviter la génération\n",
       "city_to_process = \"paris\" # ou une autre ville de votre choix\n",
       "graph_exists = False\n",
       "try:\n",
       "    # Utilise la fonction de city_graph.py\n",
       "    # Enveloppé dans try/except car le module data_path pourrait ne pas être défini si l'import échoue\n",
       "    graph_exists = check_city_graph_exists(city_to_process)\n",
       "except NameError:\n",
       "    print(\"Fonction check_city_graph_exists non trouvée, impossible de vérifier l'existence du graphe.\")\n",
       "\n",
       "print(f\"\\nUn graphe pour '{city_to_process}' existe-t-il déjà ? {'Oui' if graph_exists else 'Non'}\")\n",
       "\n",
       "# --- Flag pour contrôler l'exécution de la génération ---\n",
       "# Mettez à True UNIQUEMENT si le graphe n'existe pas ET vous voulez le générer (coûts API !)\n",
       "run_poi_generation = False and not graph_exists\n",
       "\n",
       "city_graph = None\n",
       "\n",
       "if run_poi_generation and api_key:\n",
       "    print(f\"\\nATTENTION: Lancement de la génération des données POI pour {city_to_process.capitalize()}...\")\n",
       "    print(\"Cela peut prendre plusieurs minutes et utiliser des crédits API.\")\n",
       "    try:\n",
       "        # generate_city_data crée et sauvegarde directement le graphe\n",
       "        city_graph = generate_city_data(city_to_process, api_key=api_key)\n",
       "        if city_graph:\n",
       "            print(f\"Données générées et graphe créé pour {city_to_process.capitalize()}.\")\n",
       "            # Afficher quelques infos sur le premier POI généré\n",
       "            if list(city_graph.nodes):\n",
       "                first_poi_id = list(city_graph.nodes)[0]\n",
       "                print(\"\\nExemple de données pour le premier POI généré:\")\n",
       "                # Utilisation de json.dumps pour un affichage propre des dictionnaires\n",
       "                print(json.dumps(city_graph.nodes[first_poi_id], indent=2, ensure_ascii=False))\n",
       "        else:\n",
       "            print(f\"Échec de la génération des données pour {city_to_process.capitalize()}.\")\n",
       "    except NameError:\n",
       "         print(\"Fonction generate_city_data non trouvée. Vérifiez les imports.\")\n",
       "    except Exception as e:\n",
       "         print(f\"Une erreur est survenue pendant la génération: {e}\")\n",
       "elif graph_exists:\n",
       "    print(f\"\\nChargement du graphe existant pour {city_to_process.capitalize()}...\")\n",
       "    try:\n",
       "        city_graph = load_graph(city_to_process)\n",
       "        if city_graph:\n",
       "            print(f\"Graphe chargé avec succès ({len(city_graph.nodes)} noeuds, {len(city_graph.edges)} arêtes).\")\n",
       "            # Afficher un exemple de POI du graphe chargé\n",
       "            if list(city_graph.nodes):\n",
       "                # Prend un ID au hasard ou le premier\n",
       "                sample_poi_id = list(city_graph.nodes)[0]\n",
       "                print(\"\\nExemple de données pour un POI du graphe chargé:\")\n",
       "                print(json.dumps(city_graph.nodes[sample_poi_id], indent=2, ensure_ascii=False))\n",
       "        else:\n",
       "            print(\"Échec du chargement du graphe existant.\")\n",
       "    except NameError:\n",
       "         print(\"Fonction load_graph non trouvée. Vérifiez les imports.\")\n",
       "    except Exception as e:\n",
       "         print(f\"Une erreur est survenue pendant le chargement: {e}\")\n",
       "\n",
       "else:\n",
       "    print(\"\\nGénération des POI désactivée ou clé API manquante, et aucun graphe existant trouvé.\")\n",
       "    print(\"Pour la suite de la démonstration, certaines étapes nécessiteront un graphe.\")\n",
       "    print(\"Exemple de structure attendue pour un POI:\")\n",
       "    print(\"\"\"\n",
       "    {\n",
       "      \"ID\": 1,\n",
       "      \"Nom\": \"Tour Eiffel\",\n",
       "      \"Horaire\": \"09:00-23:45\",\n",
       "      \"Type\": \"Touristique\",\n",
       "      \"Interet\": 10,\n",
       "      \"duree\": 90,\n",
       "      \"cout\": 28.30,\n",
       "      \"latitude\": 48.8584,\n",
       "      \"longitude\": 2.2945\n",
       "    }\"\"\")"
      ]
     },
     {
      "cell_type": "markdown",
      "metadata": {},
      "source": [
       "## 3. Représentation par Graphe (`city_graph.py`)\n",
       "\n",
       "Le module `city_graph.py` utilise `NetworkX` pour modéliser la ville :\n",
       "- Chaque **nœud** est un POI (ID entier) avec ses attributs (nom, type, coords, etc.).\n",
       "- Les **arêtes** connectent initialement tous les POI. Elles stockeront ensuite les temps de trajet calculés.\n",
       "- Les fonctions `save_graph` et `load_graph` utilisent `pickle` pour la persistance."
      ]
     },
     {
      "cell_type": "markdown",
      "metadata": {},
      "source": [
       "(Le chargement/sauvegarde a été démontré dans la section précédente lors de l'appel à `generate_city_data` ou `load_graph`)"
      ]
     },
     {
      "cell_type": "markdown",
      "metadata": {},
      "source": [
       "### Visualisation (Optionnelle)\n",
       "La fonction `display_graph_window` peut afficher le graphe (nécessite matplotlib).\n",
       "Attention: Peut être lent pour un grand nombre de POIs."
      ]
     },
     {
      "cell_type": "code",
      "metadata": {},
      "outputs": [],
      "execution_count": null,
      "source": [
       "display_the_graph = False and city_graph is not None # Mettre à True pour essayer d'afficher\n",
       "\n",
       "if display_the_graph:\n",
       "    print(\"\\nTentative d'affichage du graphe (peut prendre du temps)...\")\n",
       "    try:\n",
       "        # Assurez-vous que matplotlib est installé et fonctionne dans votre environnement Jupyter\n",
       "        from city_graph import display_graph_window\n",
       "        # %matplotlib inline # Décommentez et choisissez inline ou qt si nécessaire\n",
       "        display_graph_window(city_graph, city=city_to_process.capitalize())\n",
       "        print(\"Si aucune fenêtre ne s'affiche, vérifiez votre backend matplotlib (%matplotlib ...)\")\n",
       "    except ImportError:\n",
       "        print(\"La fonction display_graph_window ou matplotlib n'est pas disponible.\")\n",
       "    except Exception as e:\n",
       "        print(f\"Erreur lors de l'affichage du graphe: {e}\")\n",
       "else:\n",
       "    print(\"\\nVisualisation du graphe désactivée ou graphe non chargé.\")"
      ]
     },
     {
      "cell_type": "markdown",
      "metadata": {},
      "source": [
       "## 4. Calcul des Temps de Trajet (`distance_api.py`)\n",
       "\n",
       "La classe `DistanceCalculator` gère les estimations de temps de trajet.\n",
       "- Elle peut utiliser l'API OpenAI (plus précis, coûteux) ou une formule Haversine (rapide, approximatif).\n",
       "- Elle implémente un cache en mémoire pour éviter les appels redondants.\n",
       "- Elle supporte le traitement par lots (batching) pour optimiser les appels API."
      ]
     },
     {
      "cell_type": "markdown",
      "metadata": {},
      "source": [
       "### Instanciation\n",
       "On peut choisir d'utiliser l'API ou non lors de l'instanciation."
      ]
     },
     {
      "cell_type": "code",
      "metadata": {},
      "outputs": [],
      "execution_count": null,
      "source": [
       "use_api_for_distance_demo = False # Mettre à True pour utiliser l'API (coûts !)\n",
       "distance_calculator = None\n",
       "\n",
       "try:\n",
       "    if api_key:\n",
       "        distance_calculator = DistanceCalculator(api_key=api_key, use_api=use_api_for_distance_demo)\n",
       "        print(f\"DistanceCalculator instancié (mode API: {'Activé' if use_api_for_distance_demo else 'Désactivé - Haversine'}).\")\n",
       "    else:\n",
       "        # Fournir une clé factice si aucune clé n'est chargée, pour éviter une erreur à l'instanciation\n",
       "        # Le mode 'use_api=False' garantit qu'elle ne sera pas utilisée.\n",
       "        distance_calculator = DistanceCalculator(api_key=\"dummy_key_not_used\", use_api=False)\n",
       "        print(\"DistanceCalculator instancié (mode API: Désactivé - Clé API manquante). Utilisation de Haversine.\")\n",
       "except NameError:\n",
       "    print(\"Classe DistanceCalculator non trouvée. Vérifiez les imports.\")"
      ]
     },
     {
      "cell_type": "markdown",
      "metadata": {},
      "source": [
       "### Exemple de Calcul\n",
       "Utilisons deux POIs (fictifs ou réels si le graphe est chargé) pour tester."
      ]
     },
     {
      "cell_type": "code",
      "metadata": {},
      "outputs": [],
      "execution_count": null,
      "source": [
       "poi_1 = None\n",
       "poi_2 = None\n",
       "\n",
       "if city_graph and len(city_graph.nodes) >= 2:\n",
       "    nodes_list = list(city_graph.nodes)\n",
       "    poi_1_id = nodes_list[0]\n",
       "    poi_2_id = nodes_list[1]\n",
       "    # Assurez-vous que les données du nœud sont bien accessibles\n",
       "    if poi_1_id in city_graph.nodes and poi_2_id in city_graph.nodes:\n",
       "        poi_1 = city_graph.nodes[poi_1_id]\n",
       "        poi_2 = city_graph.nodes[poi_2_id]\n",
       "        # Vérification minimale que les POIs ont les clés nécessaires\n",
       "        if 'Nom' in poi_1 and 'latitude' in poi_1 and 'longitude' in poi_1 and \\\n",
       "           'Nom' in poi_2 and 'latitude' in poi_2 and 'longitude' in poi_2:\n",
       "             print(f\"\\nUtilisation de POI réels du graphe : {poi_1.get('Nom', poi_1_id)} et {poi_2.get('Nom', poi_2_id)}\")\n",
       "        else:\n",
       "             print(\"\\nLes POIs chargés du graphe n'ont pas les attributs nécessaires (Nom, latitude, longitude).\")\n",
       "             poi_1 = None # Réinitialiser pour utiliser les fictifs\n",
       "             poi_2 = None\n",
       "    else:\n",
       "        print(f\"\\nLes IDs de POI {poi_1_id} ou {poi_2_id} n'ont pas été trouvés dans les nœuds du graphe.\")\n",
       "\n",
       "# POIs fictifs si pas de graphe ou si les POIs réels sont invalides\n",
       "if poi_1 is None or poi_2 is None:\n",
       "    poi_1 = {\"ID\": 101, \"Nom\": \"Point A (Fictif)\", \"latitude\": 48.85, \"longitude\": 2.35}\n",
       "    poi_2 = {\"ID\": 102, \"Nom\": \"Point B (Fictif)\", \"latitude\": 48.86, \"longitude\": 2.36}\n",
       "    print(\"\\nUtilisation de POI fictifs.\")\n",
       "\n",
       "if poi_1 and poi_2 and distance_calculator:\n",
       "    try:\n",
       "        # Calcul pour la marche (mode=0)\n",
       "        mode_marche = 0 # 0: marche, 1: transports en commun, 2: voiture\n",
       "        travel_time_walk = distance_calculator.get_travel_time(poi_1, poi_2, mode_marche)\n",
       "        print(f\"Temps de trajet estimé (marche) entre '{poi_1['Nom']}' et '{poi_2['Nom']}': {travel_time_walk} minutes.\")\n",
       "\n",
       "        # Calcul pour les transports en commun (mode=1)\n",
       "        mode_transport = 1\n",
       "        travel_time_transit = distance_calculator.get_travel_time(poi_1, poi_2, mode_transport)\n",
       "        print(f\"Temps de trajet estimé (transports) entre '{poi_1['Nom']}' et '{poi_2['Nom']}': {travel_time_transit} minutes.\")\n",
       "\n",
       "        # Important : vider la file d'attente si le batching est utilisé et qu'on veut les résultats immédiatement\n",
       "        distance_calculator.flush_queue()\n",
       "        print(f\"Nombre total de requêtes API effectuées par ce calculateur: {distance_calculator.get_request_count()}\")\n",
       "    except Exception as e:\n",
       "        print(f\"Une erreur est survenue lors du calcul du temps de trajet: {e}\")\n",
       "elif not distance_calculator:\n",
       "    print(\"\\nLe calculateur de distance n'a pas pu être instancié.\")"
      ]
     },
     {
      "cell_type": "markdown",
      "metadata": {},
      "source": [
       "## 5. Optimisation de l'Itinéraire (`solver.py`)\n",
       "\n",
       "Le module `solver.py` contient la classe `TouristItinerarySolver`, qui est le cœur de l'optimisation.\n",
       "\n",
       "- **Initialisation:** Prend en paramètres la ville, les heures, les contraintes (visites obligatoires, restaurants), la clé API, etc. Charge le graphe correspondant.\n",
       "- **Pré-calculs:**\n",
       "    - Calcule les `k` plus proches voisins pour chaque POI (basé sur Haversine) pour limiter la complexité.\n",
       "    - Détermine et met en cache le mode de transport \"préféré\" et le temps de trajet associé entre les voisins et POIs obligatoires. Cela utilise `DistanceCalculator` (API ou Haversine selon le choix). *Cette étape peut nécessiter des appels API si `use_api_for_distance` est True.*\n",
       "- **Modélisation CP-SAT:** Construit un modèle de Programmation par Contraintes avec OR-Tools :\n",
       "    - **Variables:** Visites (bool), positions (bool), heures d'arrivée/départ (int).\n",
       "    - **Contraintes:** Unicité, séquencement, horaires d'ouverture, durée de visite, temps de trajet, contraintes de repas, visites obligatoires, nombre max de POI.\n",
       "    - **Objectif:** Maximiser `(Score d'Intérêt Total * 10) - Temps de Trajet Total`.\n",
       "- **Résolution:** Appelle le solveur CP-SAT pour trouver une solution optimale ou faisable.\n",
       "- **Formatage:** Met en forme la solution trouvée en un itinéraire textuel lisible."
      ]
     },
     {
      "cell_type": "markdown",
      "metadata": {},
      "source": [
       "### Instanciation et Résolution (Exemple)\n",
       "\n",
       "Définissons les paramètres pour une journée à Paris.\n",
       "**Important:** Cette étape fonctionnera mieux si un graphe pour `city_to_process` a été chargé ou généré précédemment."
      ]
     },
     {
      "cell_type": "code",
      "metadata": {},
      "outputs": [],
      "execution_count": null,
      "source": [
       "params = {\n",
       "    \"city\": city_to_process,\n",
       "    \"start_time\": \"09:00\",\n",
       "    \"end_time\": \"18:00\",\n",
       "    \"max_pois\": 6, # Nombre maximum de lieux à visiter (restaurants inclus)\n",
       "    \"restaurant_count\": 1, # Nombre de restaurants souhaités (0, 1 ou 2)\n",
       "    \"mandatory_visits\": [], # Liste d'IDs de POI obligatoires (ex: [1, 5] si le graphe est chargé)\n",
       "    \"use_api_for_distance\": False, # False pour utiliser Haversine (plus rapide/moins cher pour la démo)\n",
       "    \"api_key\": api_key\n",
       "}\n",
       "\n",
       "# Vérifier si on peut lancer le solveur\n",
       "# On a besoin d'une instance de graphe valide et potentiellement d'une clé API (si use_api_for_distance est True)\n",
       "can_run_solver = city_graph is not None\n",
       "if params[\"use_api_for_distance\"] and not api_key:\n",
       "    can_run_solver = False\n",
       "    print(\"\\nClé API requise mais non disponible pour utiliser l'API de distance.\")\n",
       "\n",
       "solver_instance = None\n",
       "itinerary_solution = None\n",
       "\n",
       "if can_run_solver:\n",
       "    print(\"\\nInstanciation du solveur avec les paramètres suivants:\")\n",
       "    # Affichage propre des paramètres\n",
       "    print(json.dumps(params, indent=2))\n",
       "\n",
       "    # Instanciation (peut prendre du temps pour les pré-calculs si API activée)\n",
       "    try:\n",
       "        solver_instance = TouristItinerarySolver(\n",
       "            city=params[\"city\"],\n",
       "            graph=city_graph, # Fournir le graphe chargé/généré\n",
       "            start_time=params[\"start_time\"],\n",
       "            end_time=params[\"end_time\"],\n",
       "            max_pois=params[\"max_pois\"],\n",
       "            restaurant_count=params[\"restaurant_count\"],\n",
       "            mandatory_visits=params[\"mandatory_visits\"],\n",
       "            api_key=params[\"api_key\"],\n",
       "            use_api_for_distance=params[\"use_api_for_distance\"]\n",
       "        )\n",
       "        print(\"Solveur instancié avec succès.\")\n",
       "\n",
       "        # Résolution (peut prendre jusqu'à 60 secondes par défaut)\n",
       "        print(\"\\nLancement de la résolution de l'itinéraire...\")\n",
       "        itinerary_solution = solver_instance.solve() # Utilise max_pois de l'instance\n",
       "\n",
       "        if itinerary_solution:\n",
       "            print(\"\\nItinéraire trouvé !\")\n",
       "            # Formatage et affichage\n",
       "            formatted_itinerary = solver_instance.format_itinerary(itinerary_solution)\n",
       "            print(\"\\n--- ITINÉRAIRE OPTIMISÉ ---\")\n",
       "            print(formatted_itinerary)\n",
       "            print(\"---------------------------\\n\")\n",
       "\n",
       "            # On peut aussi récupérer le dictionnaire pour l'API web\n",
       "            # try:\n",
       "            #     itinerary_dict = solver_instance._convert_itinerary_to_dict(itinerary_solution)\n",
       "            #     print(\"\\nFormat Dictionnaire (pour API):\")\n",
       "            #     print(json.dumps(itinerary_dict, indent=2, ensure_ascii=False))\n",
       "            # except AttributeError:\n",
       "            #     print(\"La méthode _convert_itinerary_to_dict n'existe pas dans cette version du solveur.\")\n",
       "\n",
       "        else:\n",
       "            print(\"\\nAucun itinéraire faisable n'a été trouvé avec les contraintes données.\")\n",
       "\n",
       "    except NameError:\n",
       "        print(\"Classe TouristItinerarySolver non trouvée. Vérifiez les imports.\")\n",
       "    except Exception as e:\n",
       "        import traceback\n",
       "        print(f\"\\nErreur lors de l'instanciation ou de la résolution: {e}\")\n",
       "        print(\"Traceback:\")\n",
       "        traceback.print_exc()\n",
       "\n",
       "else:\n",
       "    print(\"\\nImpossible de lancer le solveur : graphe non chargé ou conditions non remplies (e.g., API requise mais clé manquante).\")"
      ]
     },
     {
      "cell_type": "markdown",
      "metadata": {},
      "source": [
       "## 6. Intégration avec l'Interface Web (Conceptuel)\n",
       "\n",
       "Ce notebook se concentre sur le backend Python. L'interface web fournie (`index.html`, `style.css`, `script.js`) interagit avec ce backend via des appels API HTTP. Typiquement :\n",
       "\n",
       "1.  **Serveur Backend:** Un framework web Python (comme Flask, FastAPI ou Django) est nécessaire pour exposer des endpoints API. Il n'est pas inclus dans les fichiers fournis mais est implicitement requis.\n",
       "2.  **Endpoint `/api/plan` (POST):**\n",
       "    *   Le frontend envoie les paramètres du formulaire (ville, heures, contraintes, `use_api_for_distance`) en JSON.\n",
       "    *   Le backend reçoit la requête, instancie `TouristItinerarySolver` avec ces paramètres (chargeant ou générant le graphe si besoin), appelle `solver.solve()`.\n",
       "    *   Il formate le résultat (succès ou erreur) en JSON et le renvoie au frontend. La fonction `_convert_itinerary_to_dict` ou `format_itinerary` est utilisée ici.\n",
       "3.  **Endpoint `/api/fun-facts` (POST):**\n",
       "    *   Le frontend envoie le nom de la ville en JSON.\n",
       "    *   Le backend appelle `generate_city_fun_facts`.\n",
       "    *   Il renvoie la liste des faits (ou un message d'erreur) en JSON.\n",
       "4.  **Frontend (JavaScript):**\n",
       "    *   `script.js` utilise la `fetch` API pour envoyer les requêtes aux endpoints ci-dessus.\n",
       "    *   Il gère l'affichage de l'état de chargement (spinner, faits intéressants).\n",
       "    *   Il met à jour le DOM (la page HTML) avec l'itinéraire reçu ou les messages d'erreur."
      ]
     },
     {
      "cell_type": "markdown",
      "metadata": {},
      "source": [
       "## 7. Conclusion et Perspectives\n",
       "\n",
       "Ce notebook a détaillé les étapes clés du projet \"Tourist Itinerary Planner\", depuis la génération des données jusqu'à l'optimisation de l'itinéraire. Le système combine des technologies modernes (LLM, CP-SAT) pour résoudre un problème de planification complexe.\n",
       "\n",
       "**Points Forts:**\n",
       "- Génération automatique des données de base.\n",
       "- Optimisation puissante via OR-Tools.\n",
       "- Prise en compte de nombreuses contraintes réalistes (horaires, repas, durée).\n",
       "- Flexibilité dans le calcul des temps de trajet (API vs Haversine).\n",
       "- Persistance des données via les graphes sauvegardés.\n",
       "- (Conceptuellement) Accessible via une interface web.\n",
       "\n",
       "**Perspectives d'Amélioration (Rappel):**\n",
       "- Intégration d'API cartographiques pour des données/temps de trajet plus fiables/temps réel.\n",
       "- Amélioration de l'interface web (carte interactive, sélection de POI assistée).\n",
       "- Personnalisation plus fine (profils d'intérêt, budgets).\n",
       "- Planification multi-jours.\n",
       "- Feedback utilisateur pour affiner les scores/heuristiques."
      ]
     },
     {
      "cell_type": "markdown",
      "metadata": {},
      "source": [
       "--- Fin du Notebook ---"
      ]
     }
    ],
    "metadata": {
     "kernelspec": {
      "display_name": "Python 3 (ipykernel)",
      "language": "python",
      "name": "python3"
     },
     "language_info": {
      "codemirror_mode": {
       "name": "ipython",
       "version": 3
      },
      "file_extension": ".py",
      "mimetype": "text/x-python",
      "name": "python",
      "nbconvert_exporter": "python",
      "pygments_lexer": "ipython3",
      "version": "3.10.12"
     },
     "orig_nbformat": 4
    },
    "nbformat": 4,
    "nbformat_minor": 5
   }